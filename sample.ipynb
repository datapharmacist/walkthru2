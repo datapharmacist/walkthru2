{
 "cells": [
  {
   "cell_type": "markdown",
   "id": "a099795e-455e-4b10-b3f4-2b20e41b5561",
   "metadata": {},
   "source": [
    "## Walkthru Sample Notebook"
   ]
  },
  {
   "cell_type": "markdown",
   "id": "a5f98473-9198-4d85-ae09-292f1e819cc9",
   "metadata": {},
   "source": [
    "Here is how I calculate `1+1`:"
   ]
  },
  {
   "cell_type": "code",
   "execution_count": 1,
   "id": "61cd8809-c0d3-4f2a-b93b-ed659936f382",
   "metadata": {},
   "outputs": [
    {
     "data": {
      "text/plain": [
       "2"
      ]
     },
     "execution_count": 1,
     "metadata": {},
     "output_type": "execute_result"
    }
   ],
   "source": [
    "1+1"
   ]
  },
  {
   "cell_type": "code",
   "execution_count": 3,
   "id": "ba26bd04-ef5b-4129-b3e5-e1605b823dab",
   "metadata": {},
   "outputs": [],
   "source": [
    "from numpy import *"
   ]
  },
  {
   "cell_type": "markdown",
   "id": "0d5ce627-ea10-425e-b262-0edfb4f52f28",
   "metadata": {},
   "source": [
    "Here is how I caluculate `sin`:"
   ]
  },
  {
   "cell_type": "code",
   "execution_count": 4,
   "id": "b920fb42-4beb-4695-9d70-11e8d43858c2",
   "metadata": {},
   "outputs": [
    {
     "data": {
      "text/plain": [
       "array([0.84147098, 1.        ])"
      ]
     },
     "execution_count": 4,
     "metadata": {},
     "output_type": "execute_result"
    }
   ],
   "source": [
    "a = array([1.0, pi/2])\n",
    "sin(a)"
   ]
  },
  {
   "cell_type": "code",
   "execution_count": null,
   "id": "c010789b-1071-413f-b762-83c6ecabaae1",
   "metadata": {},
   "outputs": [],
   "source": []
  }
 ],
 "metadata": {
  "kernelspec": {
   "display_name": "Python 3 (ipykernel)",
   "language": "python",
   "name": "python3"
  },
  "language_info": {
   "codemirror_mode": {
    "name": "ipython",
    "version": 3
   },
   "file_extension": ".py",
   "mimetype": "text/x-python",
   "name": "python",
   "nbconvert_exporter": "python",
   "pygments_lexer": "ipython3",
   "version": "3.10.6"
  }
 },
 "nbformat": 4,
 "nbformat_minor": 5
}
